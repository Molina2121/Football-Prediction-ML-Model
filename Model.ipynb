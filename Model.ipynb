{
 "cells": [
  {
   "cell_type": "markdown",
   "id": "484220ae-80d5-46b9-b341-a099c6d89889",
   "metadata": {},
   "source": [
    "## Model for Football Prediction"
   ]
  },
  {
   "cell_type": "markdown",
   "id": "6826bcfc-3ae6-4e90-842d-6a27789cab66",
   "metadata": {},
   "source": [
    "Took a promising database from internet and decided to perform an approach with $\\textbf{Machine Learning}$ to see if I could get a good estimator."
   ]
  },
  {
   "cell_type": "code",
   "execution_count": 1,
   "id": "1f9a9e7e-da08-4257-8361-03dae43fa2d7",
   "metadata": {},
   "outputs": [
    {
     "name": "stdout",
     "output_type": "stream",
     "text": [
      "WARNING:tensorflow:From C:\\Users\\marti\\AppData\\Local\\Packages\\PythonSoftwareFoundation.Python.3.10_qbz5n2kfra8p0\\LocalCache\\local-packages\\Python310\\site-packages\\keras\\src\\losses.py:2976: The name tf.losses.sparse_softmax_cross_entropy is deprecated. Please use tf.compat.v1.losses.sparse_softmax_cross_entropy instead.\n",
      "\n"
     ]
    }
   ],
   "source": [
    "import numpy as np\n",
    "import pandas as pd\n",
    "import requests\n",
    "import xlsxwriter\n",
    "import math\n",
    "import tensorflow as tf"
   ]
  },
  {
   "cell_type": "code",
   "execution_count": 2,
   "id": "2139c07d-be34-43ce-b2ff-c7d12f2177b7",
   "metadata": {},
   "outputs": [],
   "source": [
    "df = pd.read_csv('C:\\\\Users\\\\marti\\\\Downloads\\\\archive\\\\full_data.csv')"
   ]
  },
  {
   "cell_type": "code",
   "execution_count": 3,
   "id": "4880fe26-002f-4160-9160-f13f9784b40e",
   "metadata": {
    "scrolled": true
   },
   "outputs": [
    {
     "name": "stdout",
     "output_type": "stream",
     "text": [
      "<class 'pandas.core.frame.DataFrame'>\n",
      "RangeIndex: 96337 entries, 0 to 96336\n",
      "Data columns (total 56 columns):\n",
      " #   Column               Non-Null Count  Dtype  \n",
      "---  ------               --------------  -----  \n",
      " 0   League               96337 non-null  object \n",
      " 1   Home                 96337 non-null  object \n",
      " 2   Away                 96337 non-null  object \n",
      " 3   INC                  96305 non-null  object \n",
      " 4   Round                96337 non-null  object \n",
      " 5   Date                 96337 non-null  object \n",
      " 6   Time                 96337 non-null  object \n",
      " 7   H_Score              96305 non-null  float64\n",
      " 8   A_Score              96305 non-null  float64\n",
      " 9   HT_H_Score           96305 non-null  float64\n",
      " 10  HT_A_Score           96305 non-null  float64\n",
      " 11  WIN                  96305 non-null  object \n",
      " 12  H_BET                95181 non-null  float64\n",
      " 13  X_BET                95181 non-null  float64\n",
      " 14  A_BET                95181 non-null  float64\n",
      " 15  WIN_BET              95181 non-null  float64\n",
      " 16  OVER_2.5             96305 non-null  object \n",
      " 17  OVER_3.5             96305 non-null  object \n",
      " 18  H_15                 96337 non-null  bool   \n",
      " 19  A_15                 96337 non-null  bool   \n",
      " 20  H_45_50              96337 non-null  bool   \n",
      " 21  A_45_50              96337 non-null  bool   \n",
      " 22  H_90                 96337 non-null  bool   \n",
      " 23  A_90                 96337 non-null  bool   \n",
      " 24  H_Missing_Players    50213 non-null  float64\n",
      " 25  A_Missing_Players    50213 non-null  float64\n",
      " 26  Missing_Players      50213 non-null  float64\n",
      " 27  H_Ball_Possession    51887 non-null  object \n",
      " 28  A_Ball_Possession    51887 non-null  object \n",
      " 29  H_Goal_Attempts      52800 non-null  float64\n",
      " 30  A_Goal_Attempts      52800 non-null  float64\n",
      " 31  H_Shots_on_Goal      52797 non-null  float64\n",
      " 32  A_Shots_on_Goal      52797 non-null  float64\n",
      " 33  H_Attacks            30673 non-null  float64\n",
      " 34  A_Attacks            30673 non-null  float64\n",
      " 35  H_Dangerous_Attacks  30679 non-null  float64\n",
      " 36  A_Dangerous_Attacks  30679 non-null  float64\n",
      " 37  H_Shots_off_Goal     52338 non-null  float64\n",
      " 38  A_Shots_off_Goal     52338 non-null  float64\n",
      " 39  H_Blocked_Shots      35190 non-null  float64\n",
      " 40  A_Blocked_Shots      35190 non-null  float64\n",
      " 41  H_Free_Kicks         36390 non-null  float64\n",
      " 42  A_Free_Kicks         36390 non-null  float64\n",
      " 43  H_Corner_Kicks       52611 non-null  float64\n",
      " 44  A_Corner_Kicks       52611 non-null  float64\n",
      " 45  H_Offsides           47294 non-null  float64\n",
      " 46  A_Offsides           47294 non-null  float64\n",
      " 47  H_Throw_in           21683 non-null  float64\n",
      " 48  A_Throw_in           21683 non-null  float64\n",
      " 49  H_Goalkeeper_Saves   52799 non-null  float64\n",
      " 50  A_Goalkeeper_Saves   52799 non-null  float64\n",
      " 51  H_Fouls              46301 non-null  float64\n",
      " 52  A_Fouls              46301 non-null  float64\n",
      " 53  H_Yellow_Cards       52716 non-null  float64\n",
      " 54  A_Yellow_Cards       52716 non-null  float64\n",
      " 55  Game Link            96337 non-null  object \n",
      "dtypes: bool(6), float64(37), object(13)\n",
      "memory usage: 37.3+ MB\n",
      "None\n"
     ]
    }
   ],
   "source": [
    "print(df.info())"
   ]
  },
  {
   "cell_type": "markdown",
   "id": "0a295805-3269-4eca-a7cf-08b21939a9df",
   "metadata": {},
   "source": [
    "The dataset at hand is extensive, yet we will be streamlining it by removing columns pertaining to betting and sparse data, and standardizing all data types for uniformity."
   ]
  },
  {
   "cell_type": "code",
   "execution_count": 4,
   "id": "6b47ae69-2cd5-4a9f-9133-2171111fb7c3",
   "metadata": {},
   "outputs": [
    {
     "name": "stdout",
     "output_type": "stream",
     "text": [
      "Index(['League', 'Home', 'Away', 'INC', 'Round', 'Date', 'Time', 'H_Score',\n",
      "       'A_Score', 'HT_H_Score', 'HT_A_Score', 'WIN', 'H_BET', 'X_BET', 'A_BET',\n",
      "       'WIN_BET', 'OVER_2.5', 'OVER_3.5', 'H_15', 'A_15', 'H_45_50', 'A_45_50',\n",
      "       'H_90', 'A_90', 'H_Missing_Players', 'A_Missing_Players',\n",
      "       'Missing_Players', 'H_Ball_Possession', 'A_Ball_Possession',\n",
      "       'H_Goal_Attempts', 'A_Goal_Attempts', 'H_Shots_on_Goal',\n",
      "       'A_Shots_on_Goal', 'H_Attacks', 'A_Attacks', 'H_Dangerous_Attacks',\n",
      "       'A_Dangerous_Attacks', 'H_Shots_off_Goal', 'A_Shots_off_Goal',\n",
      "       'H_Blocked_Shots', 'A_Blocked_Shots', 'H_Free_Kicks', 'A_Free_Kicks',\n",
      "       'H_Corner_Kicks', 'A_Corner_Kicks', 'H_Offsides', 'A_Offsides',\n",
      "       'H_Throw_in', 'A_Throw_in', 'H_Goalkeeper_Saves', 'A_Goalkeeper_Saves',\n",
      "       'H_Fouls', 'A_Fouls', 'H_Yellow_Cards', 'A_Yellow_Cards', 'Game Link'],\n",
      "      dtype='object')\n"
     ]
    }
   ],
   "source": [
    "print(df.columns)\n"
   ]
  },
  {
   "cell_type": "code",
   "execution_count": 5,
   "id": "2308a458-a6c4-4aaa-8365-c79ddc280e46",
   "metadata": {},
   "outputs": [
    {
     "name": "stderr",
     "output_type": "stream",
     "text": [
      "C:\\Users\\marti\\AppData\\Local\\Temp\\ipykernel_10404\\4203122447.py:10: UserWarning: Parsing dates in %d.%m.%Y format when dayfirst=False (the default) was specified. Pass `dayfirst=True` or specify a format to silence this warning.\n",
      "  df['Date'] = pd.to_datetime(df['Date'])\n",
      "C:\\Users\\marti\\AppData\\Local\\Temp\\ipykernel_10404\\4203122447.py:16: FutureWarning: A value is trying to be set on a copy of a DataFrame or Series through chained assignment using an inplace method.\n",
      "The behavior will change in pandas 3.0. This inplace method will never work because the intermediate object on which we are setting values always behaves as a copy.\n",
      "\n",
      "For example, when doing 'df[col].method(value, inplace=True)', try using 'df.method({col: value}, inplace=True)' or df[col] = df[col].method(value) instead, to perform the operation inplace on the original object.\n",
      "\n",
      "\n",
      "  df['H_Attacks'].fillna(0, inplace=True)\n",
      "C:\\Users\\marti\\AppData\\Local\\Temp\\ipykernel_10404\\4203122447.py:17: FutureWarning: A value is trying to be set on a copy of a DataFrame or Series through chained assignment using an inplace method.\n",
      "The behavior will change in pandas 3.0. This inplace method will never work because the intermediate object on which we are setting values always behaves as a copy.\n",
      "\n",
      "For example, when doing 'df[col].method(value, inplace=True)', try using 'df.method({col: value}, inplace=True)' or df[col] = df[col].method(value) instead, to perform the operation inplace on the original object.\n",
      "\n",
      "\n",
      "  df['A_Attacks'].fillna(0, inplace=True)\n"
     ]
    }
   ],
   "source": [
    "columns_to_drop = [\n",
    "    'H_Score', 'A_Score', 'HT_H_Score', 'HT_A_Score',\n",
    "    'H_BET', 'X_BET', 'A_BET', 'WIN_BET',\n",
    "    'OVER_2.5', 'OVER_3.5', \n",
    "    'H_15', 'A_15', 'H_45_50', 'A_45_50', 'H_90', 'A_90',\n",
    "    'Game Link', 'INC', 'Round', 'Home', 'Away', 'H_Throw_in', 'A_Throw_in', 'A_Dangerous_Attacks', 'H_Dangerous_Attacks', 'H_Missing_Players', 'A_Missing_Players',\n",
    "    'Missing_Players'\n",
    "]\n",
    "\n",
    "df['Date'] = pd.to_datetime(df['Date'])\n",
    "df['Year'] = df['Date'].dt.year\n",
    "df['Month'] = df['Date'].dt.month\n",
    "df['Day'] = df['Date'].dt.day\n",
    "df.drop(['Date', 'Time'], axis=1, inplace=True)\n",
    "\n",
    "df['H_Attacks'].fillna(0, inplace=True)\n",
    "df['A_Attacks'].fillna(0, inplace=True)\n",
    "\n",
    "df.drop(columns_to_drop, axis=1, inplace=True)\n"
   ]
  },
  {
   "cell_type": "code",
   "execution_count": 6,
   "id": "e24115a4-8f78-4355-a886-1ff338339237",
   "metadata": {},
   "outputs": [
    {
     "name": "stdout",
     "output_type": "stream",
     "text": [
      "Index(['League', 'WIN', 'H_Ball_Possession', 'A_Ball_Possession',\n",
      "       'H_Goal_Attempts', 'A_Goal_Attempts', 'H_Shots_on_Goal',\n",
      "       'A_Shots_on_Goal', 'H_Attacks', 'A_Attacks', 'H_Shots_off_Goal',\n",
      "       'A_Shots_off_Goal', 'H_Blocked_Shots', 'A_Blocked_Shots',\n",
      "       'H_Free_Kicks', 'A_Free_Kicks', 'H_Corner_Kicks', 'A_Corner_Kicks',\n",
      "       'H_Offsides', 'A_Offsides', 'H_Goalkeeper_Saves', 'A_Goalkeeper_Saves',\n",
      "       'H_Fouls', 'A_Fouls', 'H_Yellow_Cards', 'A_Yellow_Cards', 'Year',\n",
      "       'Month', 'Day'],\n",
      "      dtype='object')\n"
     ]
    }
   ],
   "source": [
    "print(df.columns)"
   ]
  },
  {
   "cell_type": "code",
   "execution_count": 7,
   "id": "beaee39e-38a7-4236-82bd-3e822e6002db",
   "metadata": {},
   "outputs": [
    {
     "name": "stdout",
     "output_type": "stream",
     "text": [
      "<class 'pandas.core.frame.DataFrame'>\n",
      "RangeIndex: 96337 entries, 0 to 96336\n",
      "Data columns (total 29 columns):\n",
      " #   Column              Non-Null Count  Dtype  \n",
      "---  ------              --------------  -----  \n",
      " 0   League              96337 non-null  object \n",
      " 1   WIN                 96305 non-null  object \n",
      " 2   H_Ball_Possession   51887 non-null  object \n",
      " 3   A_Ball_Possession   51887 non-null  object \n",
      " 4   H_Goal_Attempts     52800 non-null  float64\n",
      " 5   A_Goal_Attempts     52800 non-null  float64\n",
      " 6   H_Shots_on_Goal     52797 non-null  float64\n",
      " 7   A_Shots_on_Goal     52797 non-null  float64\n",
      " 8   H_Attacks           96337 non-null  float64\n",
      " 9   A_Attacks           96337 non-null  float64\n",
      " 10  H_Shots_off_Goal    52338 non-null  float64\n",
      " 11  A_Shots_off_Goal    52338 non-null  float64\n",
      " 12  H_Blocked_Shots     35190 non-null  float64\n",
      " 13  A_Blocked_Shots     35190 non-null  float64\n",
      " 14  H_Free_Kicks        36390 non-null  float64\n",
      " 15  A_Free_Kicks        36390 non-null  float64\n",
      " 16  H_Corner_Kicks      52611 non-null  float64\n",
      " 17  A_Corner_Kicks      52611 non-null  float64\n",
      " 18  H_Offsides          47294 non-null  float64\n",
      " 19  A_Offsides          47294 non-null  float64\n",
      " 20  H_Goalkeeper_Saves  52799 non-null  float64\n",
      " 21  A_Goalkeeper_Saves  52799 non-null  float64\n",
      " 22  H_Fouls             46301 non-null  float64\n",
      " 23  A_Fouls             46301 non-null  float64\n",
      " 24  H_Yellow_Cards      52716 non-null  float64\n",
      " 25  A_Yellow_Cards      52716 non-null  float64\n",
      " 26  Year                96337 non-null  int32  \n",
      " 27  Month               96337 non-null  int32  \n",
      " 28  Day                 96337 non-null  int32  \n",
      "dtypes: float64(22), int32(3), object(4)\n",
      "memory usage: 20.2+ MB\n",
      "None\n"
     ]
    }
   ],
   "source": [
    "print(df.info())"
   ]
  },
  {
   "cell_type": "code",
   "execution_count": 8,
   "id": "2195f7a1-73ca-44b1-a437-dc68879b7995",
   "metadata": {},
   "outputs": [],
   "source": [
    "df['WIN'] = df['WIN'].map({'Home': 1, 'Draw': 0, 'Away': 2})\n",
    "big_leagues = ['championship', 'premier-league', 'bundesliga', 'laliga', 'serie-a']\n",
    "df_filtered = df[df['League'].isin(big_leagues)]\n",
    "df = df_filtered"
   ]
  },
  {
   "cell_type": "code",
   "execution_count": 9,
   "id": "a98612ad-1534-4983-8c4e-b12ef7c8d790",
   "metadata": {},
   "outputs": [],
   "source": [
    "df['H_Ball_Possession'] = df['H_Ball_Possession'].str.rstrip('%').astype(float) / 100.0\n",
    "df['A_Ball_Possession'] = df['A_Ball_Possession'].str.rstrip('%').astype(float) / 100.0"
   ]
  },
  {
   "cell_type": "code",
   "execution_count": 10,
   "id": "d8eab44b-87ac-44a9-ad02-71e8e6efef0c",
   "metadata": {},
   "outputs": [
    {
     "name": "stdout",
     "output_type": "stream",
     "text": [
      "Index(['League', 'WIN', 'H_Ball_Possession', 'A_Ball_Possession',\n",
      "       'H_Goal_Attempts', 'A_Goal_Attempts', 'H_Shots_on_Goal',\n",
      "       'A_Shots_on_Goal', 'H_Attacks', 'A_Attacks', 'H_Shots_off_Goal',\n",
      "       'A_Shots_off_Goal', 'H_Blocked_Shots', 'A_Blocked_Shots',\n",
      "       'H_Free_Kicks', 'A_Free_Kicks', 'H_Corner_Kicks', 'A_Corner_Kicks',\n",
      "       'H_Offsides', 'A_Offsides', 'H_Goalkeeper_Saves', 'A_Goalkeeper_Saves',\n",
      "       'H_Fouls', 'A_Fouls', 'H_Yellow_Cards', 'A_Yellow_Cards', 'Year',\n",
      "       'Month', 'Day'],\n",
      "      dtype='object')\n"
     ]
    }
   ],
   "source": [
    "print(df.columns)\n"
   ]
  },
  {
   "cell_type": "code",
   "execution_count": 11,
   "id": "4a90a304-dc33-40f6-9f7c-9530eea4aac0",
   "metadata": {},
   "outputs": [],
   "source": [
    "df = pd.get_dummies(df, columns=['League'])\n",
    "df = df.dropna()"
   ]
  },
  {
   "cell_type": "code",
   "execution_count": 12,
   "id": "003bce61-0262-4973-bfa8-12eb0be2fa19",
   "metadata": {},
   "outputs": [
    {
     "name": "stdout",
     "output_type": "stream",
     "text": [
      "<class 'pandas.core.frame.DataFrame'>\n",
      "Index: 13142 entries, 1671 to 41248\n",
      "Data columns (total 33 columns):\n",
      " #   Column                 Non-Null Count  Dtype  \n",
      "---  ------                 --------------  -----  \n",
      " 0   WIN                    13142 non-null  float64\n",
      " 1   H_Ball_Possession      13142 non-null  float64\n",
      " 2   A_Ball_Possession      13142 non-null  float64\n",
      " 3   H_Goal_Attempts        13142 non-null  float64\n",
      " 4   A_Goal_Attempts        13142 non-null  float64\n",
      " 5   H_Shots_on_Goal        13142 non-null  float64\n",
      " 6   A_Shots_on_Goal        13142 non-null  float64\n",
      " 7   H_Attacks              13142 non-null  float64\n",
      " 8   A_Attacks              13142 non-null  float64\n",
      " 9   H_Shots_off_Goal       13142 non-null  float64\n",
      " 10  A_Shots_off_Goal       13142 non-null  float64\n",
      " 11  H_Blocked_Shots        13142 non-null  float64\n",
      " 12  A_Blocked_Shots        13142 non-null  float64\n",
      " 13  H_Free_Kicks           13142 non-null  float64\n",
      " 14  A_Free_Kicks           13142 non-null  float64\n",
      " 15  H_Corner_Kicks         13142 non-null  float64\n",
      " 16  A_Corner_Kicks         13142 non-null  float64\n",
      " 17  H_Offsides             13142 non-null  float64\n",
      " 18  A_Offsides             13142 non-null  float64\n",
      " 19  H_Goalkeeper_Saves     13142 non-null  float64\n",
      " 20  A_Goalkeeper_Saves     13142 non-null  float64\n",
      " 21  H_Fouls                13142 non-null  float64\n",
      " 22  A_Fouls                13142 non-null  float64\n",
      " 23  H_Yellow_Cards         13142 non-null  float64\n",
      " 24  A_Yellow_Cards         13142 non-null  float64\n",
      " 25  Year                   13142 non-null  int32  \n",
      " 26  Month                  13142 non-null  int32  \n",
      " 27  Day                    13142 non-null  int32  \n",
      " 28  League_bundesliga      13142 non-null  bool   \n",
      " 29  League_championship    13142 non-null  bool   \n",
      " 30  League_laliga          13142 non-null  bool   \n",
      " 31  League_premier-league  13142 non-null  bool   \n",
      " 32  League_serie-a         13142 non-null  bool   \n",
      "dtypes: bool(5), float64(25), int32(3)\n",
      "memory usage: 2.8 MB\n",
      "None\n"
     ]
    }
   ],
   "source": [
    "print(df.info())"
   ]
  },
  {
   "cell_type": "markdown",
   "id": "4e85d890-432c-47e8-a9a5-49e401c4f5c5",
   "metadata": {},
   "source": [
    "Our final data has information of $13.142$ matches, which should be more than enough. Now we check if everything is numerical and change types to float32, to avoid problems."
   ]
  },
  {
   "cell_type": "code",
   "execution_count": 13,
   "id": "aaa663b5-4785-4d88-a959-44a8600a77af",
   "metadata": {},
   "outputs": [
    {
     "name": "stdout",
     "output_type": "stream",
     "text": [
      "Todas las columnas son numéricas.\n"
     ]
    }
   ],
   "source": [
    "df[['League_bundesliga', 'League_championship', 'League_laliga', 'League_premier-league', 'League_serie-a']] = df[['League_bundesliga', 'League_championship', 'League_laliga', 'League_premier-league', 'League_serie-a']].astype(int)\n",
    "\n",
    "numeric_columns = df.select_dtypes(include=['number']).columns\n",
    "\n",
    "if len(numeric_columns) == len(df.columns):\n",
    "    print(\"Todas las columnas son numéricas.\")\n",
    "else:\n",
    "    print(\"No todas las columnas son numéricas.\")\n",
    "    print(\"Columnas no numéricas:\", df.columns.difference(numeric_columns))\n"
   ]
  },
  {
   "cell_type": "code",
   "execution_count": 14,
   "id": "152d9187-43c7-4102-ba39-0411fd3b1577",
   "metadata": {},
   "outputs": [
    {
     "name": "stdout",
     "output_type": "stream",
     "text": [
      "WIN                      float32\n",
      "H_Ball_Possession        float32\n",
      "A_Ball_Possession        float32\n",
      "H_Goal_Attempts          float32\n",
      "A_Goal_Attempts          float32\n",
      "H_Shots_on_Goal          float32\n",
      "A_Shots_on_Goal          float32\n",
      "H_Attacks                float32\n",
      "A_Attacks                float32\n",
      "H_Shots_off_Goal         float32\n",
      "A_Shots_off_Goal         float32\n",
      "H_Blocked_Shots          float32\n",
      "A_Blocked_Shots          float32\n",
      "H_Free_Kicks             float32\n",
      "A_Free_Kicks             float32\n",
      "H_Corner_Kicks           float32\n",
      "A_Corner_Kicks           float32\n",
      "H_Offsides               float32\n",
      "A_Offsides               float32\n",
      "H_Goalkeeper_Saves       float32\n",
      "A_Goalkeeper_Saves       float32\n",
      "H_Fouls                  float32\n",
      "A_Fouls                  float32\n",
      "H_Yellow_Cards           float32\n",
      "A_Yellow_Cards           float32\n",
      "Year                     float32\n",
      "Month                    float32\n",
      "Day                      float32\n",
      "League_bundesliga        float32\n",
      "League_championship      float32\n",
      "League_laliga            float32\n",
      "League_premier-league    float32\n",
      "League_serie-a           float32\n",
      "dtype: object\n"
     ]
    }
   ],
   "source": [
    "df = df.astype(np.float32)\n",
    "print(df.dtypes)"
   ]
  },
  {
   "cell_type": "code",
   "execution_count": 15,
   "id": "d52da1bd-1be0-4e34-9c5d-df71671e94a1",
   "metadata": {},
   "outputs": [],
   "source": [
    "from sklearn.model_selection import train_test_split\n",
    "from sklearn.preprocessing import StandardScaler\n",
    "\n",
    "X = df.drop('WIN', axis=1)\n",
    "Y = df['WIN']\n",
    "\n",
    "scaler = StandardScaler()\n",
    "X_scaled = scaler.fit_transform(X)\n",
    "\n",
    "x_train, x_test, y_train, y_test = train_test_split(X_scaled, Y, test_size=0.2, random_state=42)"
   ]
  },
  {
   "cell_type": "code",
   "execution_count": 16,
   "id": "89f1b04e-1f0d-4435-929c-8182e8755015",
   "metadata": {},
   "outputs": [
    {
     "data": {
      "text/plain": [
       "array([[0., 0., 1.],\n",
       "       [0., 1., 0.],\n",
       "       [0., 1., 0.],\n",
       "       ...,\n",
       "       [0., 0., 1.],\n",
       "       [0., 1., 0.],\n",
       "       [0., 0., 1.]], dtype=float32)"
      ]
     },
     "execution_count": 16,
     "metadata": {},
     "output_type": "execute_result"
    }
   ],
   "source": [
    "from tensorflow.keras.utils import to_categorical\n",
    "\n",
    "Y_one_hot = to_categorical(Y)\n",
    "Y_one_hot"
   ]
  },
  {
   "cell_type": "code",
   "execution_count": 17,
   "id": "1df85028-0fa6-4ca2-ab43-366e9da33f3d",
   "metadata": {},
   "outputs": [
    {
     "name": "stdout",
     "output_type": "stream",
     "text": [
      "WARNING:tensorflow:From C:\\Users\\marti\\AppData\\Local\\Packages\\PythonSoftwareFoundation.Python.3.10_qbz5n2kfra8p0\\LocalCache\\local-packages\\Python310\\site-packages\\keras\\src\\backend.py:873: The name tf.get_default_graph is deprecated. Please use tf.compat.v1.get_default_graph instead.\n",
      "\n"
     ]
    }
   ],
   "source": [
    "from keras.models import Sequential\n",
    "from keras.layers import Dense\n",
    "\n",
    "model = Sequential([\n",
    "    Dense(32, input_shape=(32,), activation='relu'),\n",
    "    Dense(20, activation='relu'),  \n",
    "    Dense(3, activation='softmax')  \n",
    "])"
   ]
  },
  {
   "cell_type": "code",
   "execution_count": 18,
   "id": "be7501f3-ed64-4d10-8589-2f0b31831dcb",
   "metadata": {},
   "outputs": [],
   "source": [
    "from keras.optimizers import Adam\n",
    "\n",
    "model.compile(optimizer=Adam(),\n",
    "              loss='categorical_crossentropy',  \n",
    "              metrics=['accuracy'])\n"
   ]
  },
  {
   "cell_type": "code",
   "execution_count": 19,
   "id": "374de376-5f36-4fcf-bb4c-b1759e5a7194",
   "metadata": {},
   "outputs": [
    {
     "name": "stdout",
     "output_type": "stream",
     "text": [
      "Epoch 1/10\n",
      "WARNING:tensorflow:From C:\\Users\\marti\\AppData\\Local\\Packages\\PythonSoftwareFoundation.Python.3.10_qbz5n2kfra8p0\\LocalCache\\local-packages\\Python310\\site-packages\\keras\\src\\utils\\tf_utils.py:492: The name tf.ragged.RaggedTensorValue is deprecated. Please use tf.compat.v1.ragged.RaggedTensorValue instead.\n",
      "\n",
      "WARNING:tensorflow:From C:\\Users\\marti\\AppData\\Local\\Packages\\PythonSoftwareFoundation.Python.3.10_qbz5n2kfra8p0\\LocalCache\\local-packages\\Python310\\site-packages\\keras\\src\\engine\\base_layer_utils.py:384: The name tf.executing_eagerly_outside_functions is deprecated. Please use tf.compat.v1.executing_eagerly_outside_functions instead.\n",
      "\n",
      "211/211 - 2s - loss: 1.0708 - accuracy: 0.4253 - val_loss: 0.9875 - val_accuracy: 0.5221 - lr: 0.0010 - 2s/epoch - 8ms/step\n",
      "Epoch 2/10\n",
      "211/211 - 1s - loss: 0.9060 - accuracy: 0.5666 - val_loss: 0.8512 - val_accuracy: 0.6040 - lr: 0.0010 - 796ms/epoch - 4ms/step\n",
      "Epoch 3/10\n",
      "211/211 - 1s - loss: 0.7351 - accuracy: 0.6722 - val_loss: 0.6678 - val_accuracy: 0.7038 - lr: 0.0010 - 826ms/epoch - 4ms/step\n",
      "Epoch 4/10\n",
      "211/211 - 1s - loss: 0.5451 - accuracy: 0.7797 - val_loss: 0.4900 - val_accuracy: 0.7975 - lr: 0.0010 - 811ms/epoch - 4ms/step\n",
      "Epoch 5/10\n",
      "211/211 - 1s - loss: 0.3851 - accuracy: 0.8739 - val_loss: 0.3645 - val_accuracy: 0.8704 - lr: 0.0010 - 886ms/epoch - 4ms/step\n",
      "Epoch 6/10\n",
      "211/211 - 1s - loss: 0.2708 - accuracy: 0.9372 - val_loss: 0.2635 - val_accuracy: 0.9270 - lr: 0.0010 - 869ms/epoch - 4ms/step\n",
      "Epoch 7/10\n",
      "211/211 - 1s - loss: 0.1884 - accuracy: 0.9748 - val_loss: 0.1961 - val_accuracy: 0.9577 - lr: 0.0010 - 798ms/epoch - 4ms/step\n",
      "Epoch 8/10\n",
      "211/211 - 1s - loss: 0.1326 - accuracy: 0.9853 - val_loss: 0.1569 - val_accuracy: 0.9652 - lr: 0.0010 - 783ms/epoch - 4ms/step\n",
      "Epoch 9/10\n",
      "211/211 - 1s - loss: 0.0942 - accuracy: 0.9910 - val_loss: 0.1276 - val_accuracy: 0.9735 - lr: 0.0010 - 792ms/epoch - 4ms/step\n",
      "Epoch 10/10\n",
      "211/211 - 1s - loss: 0.0754 - accuracy: 0.9924 - val_loss: 0.1017 - val_accuracy: 0.9826 - lr: 0.0010 - 832ms/epoch - 4ms/step\n"
     ]
    }
   ],
   "source": [
    "from sklearn.model_selection import train_test_split\n",
    "\n",
    "x_train, x_test, y_train, y_test = train_test_split(X_scaled, Y_one_hot, test_size=0.2, random_state=42)\n",
    "\n",
    "history = model.fit(\n",
    "    x=x_train, \n",
    "    y=y_train, \n",
    "    validation_split=0.8, \n",
    "    batch_size=10, \n",
    "    epochs=10, \n",
    "    callbacks=[tf.keras.callbacks.ReduceLROnPlateau()], \n",
    "    shuffle=True, \n",
    "    verbose=2\n",
    ")\n"
   ]
  },
  {
   "cell_type": "code",
   "execution_count": 20,
   "id": "dd4c587e-c13b-4350-ad81-aeb416fe7219",
   "metadata": {},
   "outputs": [
    {
     "name": "stdout",
     "output_type": "stream",
     "text": [
      "263/263 [==============================] - 0s 810us/step - loss: 0.1040 - accuracy: 0.9821\n"
     ]
    }
   ],
   "source": [
    "y_pred = model.evaluate(x_test, y_test, batch_size=10)"
   ]
  },
  {
   "cell_type": "code",
   "execution_count": 21,
   "id": "60aa4558-b96b-4811-8d79-29c807dd97e4",
   "metadata": {},
   "outputs": [
    {
     "data": {
      "image/png": "[encoded data removed]",
      "text/plain": [
       "<Figure size 640x480 with 1 Axes>"
      ]
     },
     "metadata": {},
     "output_type": "display_data"
    }
   ],
   "source": [
    "import matplotlib.pyplot as plt\n",
    "\n",
    "plt.plot(history.history['accuracy'], label=\"Training accuracy\")\n",
    "plt.plot(history.history['val_accuracy'], label=\"Validation accuracy\")\n",
    "plt.title('Training and validation accuracy')\n",
    "plt.xlabel('Epochs')\n",
    "plt.ylabel('Accuracy')\n",
    "plt.legend()\n",
    "plt.show()\n"
   ]
  },
  {
   "cell_type": "code",
   "execution_count": 22,
   "id": "4ae07edf-ba12-4271-9272-64789f621dcb",
   "metadata": {},
   "outputs": [
    {
     "name": "stdout",
     "output_type": "stream",
     "text": [
      "       loss  accuracy  val_loss  val_accuracy     lr\n",
      "0  1.070768  0.425309  0.987519      0.522054  0.001\n",
      "1  0.906004  0.566603  0.851231      0.603971  0.001\n",
      "2  0.735107  0.672217  0.667760      0.703840  0.001\n",
      "3  0.545077  0.779734  0.489970      0.797527  0.001\n",
      "4  0.385065  0.873930  0.364530      0.870408  0.001\n",
      "5  0.270785  0.937203  0.263471      0.927000  0.001\n",
      "6  0.188398  0.974786  0.196050      0.957675  0.001\n",
      "7  0.132558  0.985252  0.156920      0.965165  0.001\n",
      "8  0.094152  0.990961  0.127557      0.973487  0.001\n",
      "9  0.075382  0.992388  0.101677      0.982642  0.001\n"
     ]
    },
    {
     "data": {
      "image/png": "[encoded data removed]",
      "text/plain": [
       "<Figure size 640x480 with 1 Axes>"
      ]
     },
     "metadata": {},
     "output_type": "display_data"
    }
   ],
   "source": [
    "# For plotting with seaborn\n",
    "import seaborn as sns  \n",
    "\n",
    "# Create pandas DataFrame\n",
    "df_history = pd.DataFrame(history.history)\n",
    "print(df_history)\n",
    "\n",
    "# Plot using Seaborn\n",
    "my_plot = sns.lineplot(data=df_history[[\"loss\",\"val_loss\"]])\n",
    "my_plot.set_xlabel('Epochs')\n",
    "my_plot.set_ylabel('Loss')\n",
    "plt.legend(labels=[\"Training\", \"Validation\"])\n",
    "plt.title('Training and Validation Loss')\n",
    "plt.show()\n"
   ]
  },
  {
   "cell_type": "code",
   "execution_count": 23,
   "id": "06a01fb5-803a-425b-81a8-90f2b4a39f63",
   "metadata": {},
   "outputs": [
    {
     "name": "stdout",
     "output_type": "stream",
     "text": [
      "83/83 [==============================] - 0s 799us/step\n"
     ]
    },
    {
     "data": {
      "text/plain": [
       "2629"
      ]
     },
     "execution_count": 23,
     "metadata": {},
     "output_type": "execute_result"
    }
   ],
   "source": [
    "y_test_class = np.argmax(y_test, axis=1)\n",
    "predictions = np.argmax(model.predict(x_test),axis=1)\n",
    "predictions.size\n"
   ]
  },
  {
   "cell_type": "code",
   "execution_count": 24,
   "id": "235ad674-3bcb-4f0d-aa37-d6bca072376d",
   "metadata": {},
   "outputs": [
    {
     "data": {
      "text/plain": [
       "0.9821224800304298"
      ]
     },
     "execution_count": 24,
     "metadata": {},
     "output_type": "execute_result"
    }
   ],
   "source": [
    "from sklearn.metrics import accuracy_score\n",
    "\n",
    "accuracy_score(y_test_class, predictions)\n"
   ]
  },
  {
   "cell_type": "code",
   "execution_count": 25,
   "id": "9ca38ee9-8daf-4ddf-b1f8-ae4fdbfcef22",
   "metadata": {},
   "outputs": [
    {
     "data": {
      "text/plain": [
       "(<Figure size 400x500 with 1 Axes>,\n",
       " <Axes: xlabel='predicted label', ylabel='true label'>)"
      ]
     },
     "execution_count": 25,
     "metadata": {},
     "output_type": "execute_result"
    },
    {
     "data": {
      "image/png": "[encoded data removed]",
      "text/plain": [
       "<Figure size 400x500 with 1 Axes>"
      ]
     },
     "metadata": {},
     "output_type": "display_data"
    }
   ],
   "source": [
    "from mlxtend.plotting import plot_confusion_matrix\n",
    "from sklearn.metrics import confusion_matrix\n",
    "mat = confusion_matrix(y_test_class, predictions)\n",
    "\n",
    "plot_confusion_matrix(conf_mat=mat, figsize=(4, 5), class_names=['Empate', 'Victoria Local', 'Victoria Visitante'])\n"
   ]
  },
  {
   "cell_type": "code",
   "execution_count": 26,
   "id": "27db41dc-b1d9-4a17-ac2b-d90f6742557a",
   "metadata": {},
   "outputs": [
    {
     "name": "stdout",
     "output_type": "stream",
     "text": [
      "                    precision    recall  f1-score   support\n",
      "\n",
      "            Empate       0.96      0.97      0.97       685\n",
      "    Victoria Local       0.99      0.99      0.99      1167\n",
      "Victoria Visitante       0.98      0.98      0.98       777\n",
      "\n",
      "          accuracy                           0.98      2629\n",
      "         macro avg       0.98      0.98      0.98      2629\n",
      "      weighted avg       0.98      0.98      0.98      2629\n",
      "\n"
     ]
    }
   ],
   "source": [
    "from sklearn.metrics import classification_report\n",
    "print(classification_report(y_test_class, predictions, target_names=['Empate', 'Victoria Local', 'Victoria Visitante']))"
   ]
  },
  {
   "cell_type": "code",
   "execution_count": 27,
   "id": "8668134c-90bc-4034-801e-df3e611348df",
   "metadata": {},
   "outputs": [
    {
     "name": "stdout",
     "output_type": "stream",
     "text": [
      "83/83 [==============================] - 0s 859us/step\n"
     ]
    },
    {
     "data": {
      "image/png": "[encoded data removed]",
      "text/plain": [
       "<Figure size 640x480 with 1 Axes>"
      ]
     },
     "metadata": {},
     "output_type": "display_data"
    }
   ],
   "source": [
    "from sklearn.metrics import roc_curve, auc\n",
    "from sklearn.preprocessing import label_binarize\n",
    "import matplotlib.pyplot as plt\n",
    "\n",
    "y_test_binarized = label_binarize(y_test_class, classes=[0, 1, 2])\n",
    "n_classes = y_test_binarized.shape[1]\n",
    "\n",
    "y_pred = model.predict(x_test)\n",
    "\n",
    "for i in range(n_classes):\n",
    "    fpr, tpr, thresholds = roc_curve(y_test_binarized[:, i], y_pred[:, i])\n",
    "    roc_auc = auc(fpr, tpr)\n",
    "    plt.plot(fpr, tpr, lw=2, label='Clase {0} (área = {1:0.2f})'.format(i, roc_auc))\n",
    "\n",
    "plt.plot([0, 1], [0, 1], 'k--', lw=2)\n",
    "plt.xlim([0.0, 1.0])\n",
    "plt.ylim([0.0, 1.05])\n",
    "plt.xlabel('Falsos Positivos')\n",
    "plt.ylabel('Verdaderos Positivos')\n",
    "plt.title('Curva ROC multiclase')\n",
    "plt.legend(loc=\"lower right\")\n",
    "plt.show()\n"
   ]
  },
  {
   "cell_type": "markdown",
   "id": "4bb8da96-2f4f-498c-a023-24502928476c",
   "metadata": {},
   "source": [
    "The model's exceptional performance raises concerns about the integrity of the data, warranting a thorough validation to ensure its reliability."
   ]
  },
  {
   "cell_type": "code",
   "execution_count": null,
   "id": "a30d8fc8-586c-4190-a29b-2fcfc07734ed",
   "metadata": {},
   "outputs": [],
   "source": []
  }
 ],
 "metadata": {
  "kernelspec": {
   "display_name": "Python 3 (ipykernel)",
   "language": "python",
   "name": "python3"
  },
  "language_info": {
   "codemirror_mode": {
    "name": "ipython",
    "version": 3
   },
   "file_extension": ".py",
   "mimetype": "text/x-python",
   "name": "python",
   "nbconvert_exporter": "python",
   "pygments_lexer": "ipython3",
   "version": "3.10.11"
  }
 },
 "nbformat": 4,
 "nbformat_minor": 5
}
